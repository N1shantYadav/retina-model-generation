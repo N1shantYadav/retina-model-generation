{
 "cells": [
  {
   "cell_type": "code",
   "execution_count": 17,
   "id": "d2220da2-c951-4027-8646-6471a80ad5fd",
   "metadata": {},
   "outputs": [],
   "source": [
    "import torch\n",
    "import torch.nn as nn\n",
    "import torch.optim as optim\n",
    "import numpy as np\n",
    "import h5py\n",
    "import os\n",
    "from torch.utils.data import Dataset, DataLoader\n",
    "from tqdm import tqdm\n",
    "import matplotlib.pyplot as plt\n",
    "from torch.utils.tensorboard import SummaryWriter\n",
    "\n",
    "DEVICE = torch.device(\"cuda:0\" if torch.cuda.is_available() else \"cpu\")"
   ]
  },
  {
   "cell_type": "code",
   "execution_count": 19,
   "id": "6afb0592-97b4-409e-a394-ef79aeab4b8c",
   "metadata": {},
   "outputs": [
    {
     "name": "stdout",
     "output_type": "stream",
     "text": [
      "True\n",
      "0\n",
      "NVIDIA GeForce RTX 3060 Laptop GPU\n"
     ]
    }
   ],
   "source": [
    "import torch\n",
    "print(torch.cuda.is_available())  # Should return True if CUDA is available\n",
    "print(torch.cuda.current_device())  # Should print the device index (e.g., 0)\n",
    "print(torch.cuda.get_device_name(0))  # Should print the GPU name"
   ]
  },
  {
   "cell_type": "code",
   "execution_count": 21,
   "id": "1c3699a1-2aee-4fd9-b609-d8f9c8b54547",
   "metadata": {},
   "outputs": [],
   "source": [
    "class GanglionCellDataset(Dataset):\n",
    "    def __init__(self, h5_file):\n",
    "        \n",
    "        self.h5_file = h5_file\n",
    "        with h5py.File(h5_file, 'r') as f:\n",
    "            self.stimuli = np.array(f['train/stimulus'])  # (359802, 50, 50)\n",
    "            self.responses = np.array(f['train/response/firing_rate_10ms'])  # (9, 359802)\n",
    "\n",
    "        # Reshape stimuli to (N, 1, H, W) for CNN\n",
    "        self.stimuli = self.stimuli[:, np.newaxis, :, :].astype(np.float32)  # (359802, 1, 50, 50)\n",
    "\n",
    "        # Transpose responses to match sample dimension\n",
    "        self.responses = self.responses.T.astype(np.float32)  # (359802, 9)\n",
    "\n",
    "    def __len__(self):\n",
    "        return len(self.stimuli)\n",
    "\n",
    "    def __getitem__(self, idx):\n",
    "        stimuli = torch.tensor(self.stimuli[idx], device=DEVICE)  # Move to device\n",
    "        responses = torch.tensor(self.responses[idx], device=DEVICE)  # Move to device\n",
    "        return stimuli, responses"
   ]
  },
  {
   "cell_type": "code",
   "execution_count": 23,
   "id": "9097830e-24a8-477e-9f8c-1641d813cb0d",
   "metadata": {},
   "outputs": [],
   "source": [
    "class GaussianNoise(nn.Module):\n",
    "    def __init__(self, std: float):\n",
    "        super(GaussianNoise, self).__init__()\n",
    "        self.std = std\n",
    "\n",
    "    def forward(self, x):\n",
    "        if self.training:  # Only apply noise during training\n",
    "            noise = torch.randn_like(x).to(x.device) * self.std  # Ensure noise is on the same device\n",
    "            return x + noise\n",
    "        return x\n",
    "\n",
    "class Flatten(nn.Module):\n",
    "    def __init__(self):\n",
    "        super(Flatten, self).__init__()\n",
    "\n",
    "    def forward(self, x):\n",
    "        return x.view(x.size(0), -1)  # Flatten the input tensor\n",
    "\n",
    "class Exponential(nn.Module):\n",
    "    def __init__(self, train_off=False):\n",
    "        super(Exponential, self).__init__()\n",
    "        self.train_off = train_off\n",
    "\n",
    "    def forward(self, x):\n",
    "        if self.train_off:\n",
    "            return torch.exp(x)  # Example: Exponential activation without training\n",
    "        else:\n",
    "            return torch.exp(x)  # Modify as needed based on the desired behavior"
   ]
  },
  {
   "cell_type": "code",
   "execution_count": 25,
   "id": "bd99d01d-54df-4df6-9ed3-0c5b67124272",
   "metadata": {},
   "outputs": [],
   "source": [
    "class TDRModel(nn.Module):\n",
    "    \"\"\"\n",
    "    Base class for most models. Handles setting most of the member\n",
    "    variables that are shared for most model definitions.\n",
    "    \"\"\"\n",
    "    def __init__(self, n_units=5, noise=.05, bias=True, gc_bias=None,\n",
    "                 chans=[8,8], bn_moment=.01, softplus=True,\n",
    "                 inference_exp=False, img_shape=(40,50,50),\n",
    "                 ksizes=(15,11,11), recurrent=False, kinetic=False,\n",
    "                 convgc=False, centers=None, bnorm_d=1,\n",
    "                 activ_fxn='ReLU', **kwargs):\n",
    "        \"\"\"\n",
    "        Initializes common parameters for retinal models.\n",
    "        \"\"\"\n",
    "        super().__init__()\n",
    "        self.n_units = n_units\n",
    "        self.chans = chans\n",
    "        self.softplus = softplus\n",
    "        self.infr_exp = inference_exp\n",
    "        self.bias = bias\n",
    "        self.img_shape = img_shape\n",
    "        self.ksizes = ksizes\n",
    "        self.gc_bias = gc_bias\n",
    "        self.noise = noise\n",
    "        self.bn_moment = bn_moment\n",
    "        self.recurrent = recurrent\n",
    "        self.kinetic = kinetic\n",
    "        self.convgc = convgc\n",
    "        self.centers = centers\n",
    "        self.bnorm_d = bnorm_d\n",
    "        assert bnorm_d in [1, 2], \"Only 1D and 2D batchnorm are supported.\"\n",
    "        self.activ_fxn = activ_fxn\n",
    "\n",
    "    def forward(self, x):\n",
    "        \"\"\"\n",
    "        This function should be implemented in child classes.\n",
    "        \"\"\"\n",
    "        raise NotImplementedError(\"Forward function must be implemented in child class.\")\n",
    "\n",
    "    def update_shape(self, shape, kernel_size):\n",
    "        \"\"\"\n",
    "        Helper function to update spatial dimensions after convolution.\n",
    "\n",
    "        Parameters:\n",
    "        - shape: tuple (height, width)\n",
    "        - kernel_size: int or tuple\n",
    "\n",
    "        Returns:\n",
    "        - New shape after convolution\n",
    "        \"\"\"\n",
    "        if isinstance(kernel_size, int):\n",
    "            kernel_size = (kernel_size, kernel_size)\n",
    "        h_out = shape[0] - kernel_size[0] + 1\n",
    "        w_out = shape[1] - kernel_size[1] + 1\n",
    "        return (h_out, w_out)\n",
    "\n",
    "    def extra_repr(self):\n",
    "        \"\"\"\n",
    "        This function is used in model printing. Shows model parameters.\n",
    "        \"\"\"\n",
    "        s = ['n_units={}', 'noise={}', 'bias={}', 'gc_bias={}',\n",
    "             'chans={}', 'bn_moment={}', 'softplus={}',\n",
    "             'inference_exp={}', 'img_shape={}', 'ksizes={}']\n",
    "        return \", \".join(s).format(self.n_units, self.noise, self.bias,\n",
    "                                   self.gc_bias, self.chans,\n",
    "                                   self.bn_moment, self.softplus,\n",
    "                                   self.infr_exp, self.img_shape, self.ksizes)\n",
    "\n",
    "    def requires_grad(self, state: bool):\n",
    "        \"\"\"\n",
    "        Enables or disables gradient calculations.\n",
    "\n",
    "        Parameters:\n",
    "        - state (bool): True to enable gradients, False to disable.\n",
    "        \"\"\"\n",
    "        for p in self.parameters():\n",
    "            p.requires_grad = state"
   ]
  },
  {
   "cell_type": "code",
   "execution_count": 27,
   "id": "f953facd-a7cc-47fd-859e-0c8c83397bee",
   "metadata": {},
   "outputs": [],
   "source": [
    "# Exact BNCNN Model\n",
    "class BNCNN(TDRModel):\n",
    "    \"\"\"\n",
    "    BatchNorm CNN for predicting ganglion cell responses.\n",
    "    \"\"\"\n",
    "\n",
    "    def __init__(self, gauss_prior=0, **kwargs):\n",
    "        super().__init__(**kwargs)\n",
    "        self.name = 'McNiruNet'\n",
    "        self.gauss_prior = gauss_prior\n",
    "        modules = []\n",
    "        self.shapes = []\n",
    "        shape = self.img_shape[1:]\n",
    "\n",
    "        modules.append(nn.Conv2d(self.img_shape[0], self.chans[0], kernel_size=self.ksizes[0], bias=self.bias))\n",
    "        shape = self.update_shape(shape, self.ksizes[0])\n",
    "        self.shapes.append(tuple(shape))\n",
    "\n",
    "        if self.bnorm_d == 1:\n",
    "            modules.append(Flatten())\n",
    "            size = self.chans[0] * shape[0] * shape[1]\n",
    "            modules.append(nn.BatchNorm1d(size, eps=1e-3, momentum=self.bn_moment))\n",
    "            modules.append(Reshape((-1, self.chans[0], *shape)))\n",
    "        else:\n",
    "            modules.append(nn.BatchNorm2d(self.chans[0], eps=1e-3, momentum=self.bn_moment))\n",
    "\n",
    "        modules.append(GaussianNoise(std=self.noise))\n",
    "        modules.append(getattr(nn, self.activ_fxn)())\n",
    "\n",
    "        modules.append(nn.Conv2d(self.chans[0], self.chans[1], kernel_size=self.ksizes[1], bias=self.bias))\n",
    "        shape = self.update_shape(shape, self.ksizes[1])\n",
    "        self.shapes.append(tuple(shape))\n",
    "\n",
    "        if self.bnorm_d == 1:\n",
    "            modules.append(Flatten())\n",
    "            size = self.chans[1] * shape[0] * shape[1]\n",
    "            modules.append(nn.BatchNorm1d(size, eps=1e-3, momentum=self.bn_moment))\n",
    "            modules.append(Reshape((-1, self.chans[1], shape[0], shape[1])))\n",
    "        else:\n",
    "            modules.append(nn.BatchNorm2d(self.chans[1], eps=1e-3, momentum=self.bn_moment))\n",
    "\n",
    "        modules.append(GaussianNoise(std=self.noise))\n",
    "        modules.append(getattr(nn, self.activ_fxn)())\n",
    "\n",
    "        if self.convgc:\n",
    "            modules.append(nn.Conv2d(self.chans[1], self.n_units, kernel_size=self.ksizes[2], bias=self.gc_bias))\n",
    "            shape = self.update_shape(shape, self.ksizes[2])\n",
    "            self.shapes.append(tuple(shape))\n",
    "            modules.append(GrabUnits(self.centers, self.ksizes, self.img_shape))\n",
    "        else:\n",
    "            modules.append(Flatten())\n",
    "            size = self.chans[1] * shape[0] * shape[1]\n",
    "            modules.append(nn.Linear(size, self.n_units, bias=self.gc_bias))\n",
    "\n",
    "        modules.append(nn.BatchNorm1d(self.n_units, eps=1e-3, momentum=self.bn_moment))\n",
    "\n",
    "        if self.softplus:\n",
    "            modules.append(nn.Softplus())\n",
    "        else:\n",
    "            modules.append(Exponential(train_off=True))\n",
    "\n",
    "        self.sequential = nn.Sequential(*modules)\n",
    "\n",
    "        if self.gauss_prior > 0:\n",
    "            for i, seq_idx in enumerate([0, 6]):\n",
    "                weight = self.sequential[seq_idx].weight\n",
    "                filters = []\n",
    "                for out_i in range(weight.shape[0]):\n",
    "                    kernels = []\n",
    "                    for in_i in range(weight.shape[1]):\n",
    "                        prior_x = signal.gaussian(weight.shape[-1], std=self.gauss_prior)\n",
    "                        prior_y = signal.gaussian(weight.shape[-2], std=self.gauss_prior)\n",
    "                        prior = np.outer(prior_y, prior_x)\n",
    "                        kernels.append(prior)\n",
    "                    filters.append(np.asarray(kernels))\n",
    "                prior = np.asarray(filters)\n",
    "                denom = np.sqrt(weight.shape[0] + weight.shape[1])\n",
    "                prior = prior / np.max(prior) / denom\n",
    "                prior = torch.FloatTensor(prior)\n",
    "                self.sequential[seq_idx].weight.data = prior\n",
    "\n",
    "    def forward(self, x):\n",
    "        if not self.training and self.infr_exp:\n",
    "            return torch.exp(self.sequential(x))\n",
    "        return self.sequential(x)"
   ]
  },
  {
   "cell_type": "code",
   "execution_count": 37,
   "id": "124ef7a3-f980-44eb-a2fd-e86ac18a1270",
   "metadata": {},
   "outputs": [],
   "source": [
    "def train_model(h5_file, hyperparams, batch_size=32, lr=0.001, epochs=15):\n",
    "    dataset = GanglionCellDataset(h5_file)\n",
    "    dataloader = DataLoader(dataset, batch_size=batch_size, shuffle=True)\n",
    "\n",
    "    model = BNCNN(**hyperparams).to(DEVICE)  # Ensure model is on the GPU\n",
    "    loss_fn = nn.MSELoss()\n",
    "    optimizer = optim.Adam(model.parameters(), lr=lr)\n",
    "\n",
    "    writer = SummaryWriter(log_dir=\"runs/bncnn_experiment\")  # Create a TensorBoard logger\n",
    "\n",
    "    loss_history = []\n",
    "    accuracy_history = []\n",
    "    all_predictions = []\n",
    "    all_targets = []\n",
    "\n",
    "    for epoch in range(epochs):\n",
    "        model.train()\n",
    "        running_loss = 0.0\n",
    "        running_accuracy = 0.0\n",
    "        count = 0\n",
    "\n",
    "        for stimuli, firing_rate in tqdm(dataloader, desc=f\"Epoch {epoch+1}/{epochs}\"):\n",
    "            stimuli, firing_rate = stimuli.to(DEVICE), firing_rate.to(DEVICE)\n",
    "\n",
    "            optimizer.zero_grad()\n",
    "            predictions = model(stimuli)\n",
    "            loss = loss_fn(predictions, firing_rate)\n",
    "            loss.backward()\n",
    "            optimizer.step()\n",
    "\n",
    "            running_loss += loss.item()\n",
    "            \n",
    "            # Calculate correlation as a proxy for accuracy\n",
    "            # try:\n",
    "                # pred_np = predictions.detach().cpu().numpy()\n",
    "                # target_np = firing_rate.detach().cpu().numpy()\n",
    "\n",
    "                # if np.std(pred_np) > 0 and np.std(target_np) > 0:\n",
    "                    # correlation = np.corrcoef(pred_np.flatten(), target_np.flatten())[0, 1]\n",
    "                # else:\n",
    "                    # correlation = 0\n",
    "                # running_accuracy += correlation\n",
    "                # count += 1\n",
    "\n",
    "                # if len(all_predictions) < 10000:  # Limit to 10,000 samples\n",
    "                    # all_predictions.extend(pred_np.flatten())\n",
    "                    # all_targets.extend(target_np.flatten())\n",
    "\n",
    "            # except Exception as e:\n",
    "                # print(f\"Error in correlation calculation: {e}\")\n",
    "\n",
    "\n",
    "            # Store predictions and actual values for final visualization\n",
    "            # all_predictions.extend(pred_np.flatten())\n",
    "            # all_targets.extend(target_np.flatten())\n",
    "\n",
    "        avg_loss = running_loss / len(dataloader)\n",
    "        avg_accuracy = running_accuracy / count if count > 0 else 0 # Mean correlation across batches\n",
    "        loss_history.append(avg_loss)\n",
    "        accuracy_history.append(avg_accuracy)\n",
    "\n",
    "        writer.add_scalar(\"Loss/train\", avg_loss, epoch)\n",
    "        writer.add_scalar(\"Accuracy/train\", avg_accuracy, epoch)\n",
    "\n",
    "        print(f\"Epoch {epoch+1}/{epochs}, Loss: {avg_loss:.6f}, Accuracy: {avg_accuracy:.4f}\")\n",
    "\n",
    "    # Save Model\n",
    "    save_path = \"bncnn_model.pth\"\n",
    "    torch.save(model.state_dict(), save_path)\n",
    "    print(f\"Model saved to {save_path}\")\n",
    "\n",
    "    # Plot Loss Curve\n",
    "    plt.figure(figsize=(10, 4))\n",
    "    plt.plot(range(1, epochs + 1), loss_history, marker='o', linestyle='-', color='b', label='Loss')\n",
    "    plt.xlabel('Epochs')\n",
    "    plt.ylabel('MSE Loss')\n",
    "    plt.title('Training Loss Curve')\n",
    "    plt.legend()\n",
    "    plt.grid()\n",
    "    plt.show()\n",
    "\n",
    "    # Plot Accuracy Curve\n",
    "    plt.figure(figsize=(10, 4))\n",
    "    plt.plot(range(1, epochs + 1), accuracy_history, marker='s', linestyle='-', color='g', label='Accuracy')\n",
    "    plt.xlabel('Epochs')\n",
    "    plt.ylabel('Pearson Correlation')\n",
    "    plt.title('Training Accuracy Curve')\n",
    "    plt.legend()\n",
    "    plt.grid()\n",
    "    plt.show()\n",
    "\n",
    "    # Plot Predicted vs Real Values\n",
    "    # plt.figure(figsize=(6, 6))\n",
    "    # plt.scatter(all_targets, all_predictions, alpha=0.5, color='r')\n",
    "    # plt.plot([-1, 1], [-1, 1], linestyle='--', color='black')  # Reference line (y=x)\n",
    "    # plt.xlabel('Actual Firing Rate')\n",
    "    # plt.ylabel('Predicted Firing Rate')\n",
    "    # plt.title('Predicted vs Real Values')\n",
    "    # plt.grid()\n",
    "    # plt.show()"
   ]
  },
  {
   "cell_type": "code",
   "execution_count": 39,
   "id": "efe2a2a2-1c1a-46f1-b67b-d2576eedfaba",
   "metadata": {},
   "outputs": [
    {
     "name": "stderr",
     "output_type": "stream",
     "text": [
      "Epoch 1/15: 100%|████████████████████████████████████████████████████████████████| 11244/11244 [06:38<00:00, 28.23it/s]\n"
     ]
    },
    {
     "name": "stdout",
     "output_type": "stream",
     "text": [
      "Epoch 1/15, Loss: 101.531560, Accuracy: 0.0000\n"
     ]
    },
    {
     "name": "stderr",
     "output_type": "stream",
     "text": [
      "Epoch 2/15: 100%|████████████████████████████████████████████████████████████████| 11244/11244 [06:37<00:00, 28.26it/s]\n"
     ]
    },
    {
     "name": "stdout",
     "output_type": "stream",
     "text": [
      "Epoch 2/15, Loss: 99.586465, Accuracy: 0.0000\n"
     ]
    },
    {
     "name": "stderr",
     "output_type": "stream",
     "text": [
      "Epoch 3/15: 100%|████████████████████████████████████████████████████████████████| 11244/11244 [06:37<00:00, 28.25it/s]\n"
     ]
    },
    {
     "name": "stdout",
     "output_type": "stream",
     "text": [
      "Epoch 3/15, Loss: 97.372778, Accuracy: 0.0000\n"
     ]
    },
    {
     "name": "stderr",
     "output_type": "stream",
     "text": [
      "Epoch 4/15: 100%|████████████████████████████████████████████████████████████████| 11244/11244 [06:38<00:00, 28.23it/s]\n"
     ]
    },
    {
     "name": "stdout",
     "output_type": "stream",
     "text": [
      "Epoch 4/15, Loss: 95.013463, Accuracy: 0.0000\n"
     ]
    },
    {
     "name": "stderr",
     "output_type": "stream",
     "text": [
      "Epoch 5/15: 100%|████████████████████████████████████████████████████████████████| 11244/11244 [06:38<00:00, 28.21it/s]\n"
     ]
    },
    {
     "name": "stdout",
     "output_type": "stream",
     "text": [
      "Epoch 5/15, Loss: 92.984336, Accuracy: 0.0000\n"
     ]
    },
    {
     "name": "stderr",
     "output_type": "stream",
     "text": [
      "Epoch 6/15: 100%|████████████████████████████████████████████████████████████████| 11244/11244 [06:38<00:00, 28.22it/s]\n"
     ]
    },
    {
     "name": "stdout",
     "output_type": "stream",
     "text": [
      "Epoch 6/15, Loss: 91.513406, Accuracy: 0.0000\n"
     ]
    },
    {
     "name": "stderr",
     "output_type": "stream",
     "text": [
      "Epoch 7/15: 100%|████████████████████████████████████████████████████████████████| 11244/11244 [06:39<00:00, 28.18it/s]\n"
     ]
    },
    {
     "name": "stdout",
     "output_type": "stream",
     "text": [
      "Epoch 7/15, Loss: 90.116120, Accuracy: 0.0000\n"
     ]
    },
    {
     "name": "stderr",
     "output_type": "stream",
     "text": [
      "Epoch 8/15: 100%|████████████████████████████████████████████████████████████████| 11244/11244 [06:48<00:00, 27.53it/s]\n"
     ]
    },
    {
     "name": "stdout",
     "output_type": "stream",
     "text": [
      "Epoch 8/15, Loss: 89.197838, Accuracy: 0.0000\n"
     ]
    },
    {
     "name": "stderr",
     "output_type": "stream",
     "text": [
      "Epoch 9/15: 100%|████████████████████████████████████████████████████████████████| 11244/11244 [06:39<00:00, 28.14it/s]\n"
     ]
    },
    {
     "name": "stdout",
     "output_type": "stream",
     "text": [
      "Epoch 9/15, Loss: 88.352010, Accuracy: 0.0000\n"
     ]
    },
    {
     "name": "stderr",
     "output_type": "stream",
     "text": [
      "Epoch 10/15: 100%|███████████████████████████████████████████████████████████████| 11244/11244 [06:38<00:00, 28.21it/s]\n"
     ]
    },
    {
     "name": "stdout",
     "output_type": "stream",
     "text": [
      "Epoch 10/15, Loss: 87.571316, Accuracy: 0.0000\n"
     ]
    },
    {
     "name": "stderr",
     "output_type": "stream",
     "text": [
      "Epoch 11/15: 100%|███████████████████████████████████████████████████████████████| 11244/11244 [06:41<00:00, 28.00it/s]\n"
     ]
    },
    {
     "name": "stdout",
     "output_type": "stream",
     "text": [
      "Epoch 11/15, Loss: 86.850280, Accuracy: 0.0000\n"
     ]
    },
    {
     "name": "stderr",
     "output_type": "stream",
     "text": [
      "Epoch 12/15: 100%|███████████████████████████████████████████████████████████████| 11244/11244 [06:46<00:00, 27.65it/s]\n"
     ]
    },
    {
     "name": "stdout",
     "output_type": "stream",
     "text": [
      "Epoch 12/15, Loss: 86.443341, Accuracy: 0.0000\n"
     ]
    },
    {
     "name": "stderr",
     "output_type": "stream",
     "text": [
      "Epoch 13/15: 100%|███████████████████████████████████████████████████████████████| 11244/11244 [05:58<00:00, 31.37it/s]\n"
     ]
    },
    {
     "name": "stdout",
     "output_type": "stream",
     "text": [
      "Epoch 13/15, Loss: 85.866231, Accuracy: 0.0000\n"
     ]
    },
    {
     "name": "stderr",
     "output_type": "stream",
     "text": [
      "Epoch 14/15: 100%|███████████████████████████████████████████████████████████████| 11244/11244 [03:26<00:00, 54.42it/s]\n"
     ]
    },
    {
     "name": "stdout",
     "output_type": "stream",
     "text": [
      "Epoch 14/15, Loss: 85.359969, Accuracy: 0.0000\n"
     ]
    },
    {
     "name": "stderr",
     "output_type": "stream",
     "text": [
      "Epoch 15/15: 100%|███████████████████████████████████████████████████████████████| 11244/11244 [03:25<00:00, 54.75it/s]\n"
     ]
    },
    {
     "name": "stdout",
     "output_type": "stream",
     "text": [
      "Epoch 15/15, Loss: 85.064052, Accuracy: 0.0000\n",
      "Model saved to bncnn_model.pth\n"
     ]
    },
    {
     "data": {
      "image/png": "[encoded data removed]",
      "text/plain": [
       "<Figure size 1000x400 with 1 Axes>"
      ]
     },
     "metadata": {},
     "output_type": "display_data"
    },
    {
     "data": {
      "image/png": "[encoded data removed]",
      "text/plain": [
       "<Figure size 1000x400 with 1 Axes>"
      ]
     },
     "metadata": {},
     "output_type": "display_data"
    }
   ],
   "source": [
    "# Define Hyperparameters\n",
    "hyperparams = {\n",
    "    'img_shape': (1, 50, 50),\n",
    "    'chans': [32, 64],\n",
    "    'ksizes': [5, 5, 3],\n",
    "    'bias': False,\n",
    "    'bnorm_d': 2,\n",
    "    'bn_moment': 0.1,\n",
    "    'noise': 0.1,\n",
    "    'activ_fxn': 'ReLU',\n",
    "    'n_units': 9,\n",
    "    'gc_bias': False,\n",
    "    'softplus': False,\n",
    "    'convgc': False,\n",
    "    'centers': None\n",
    "}\n",
    "\n",
    "h5_path = r'C:\\Users\\nisha\\Downloads\\neural_code_data\\neural_code_data\\ganglion_cell_data\\15-10-07\\naturalscene.h5'\n",
    "train_model(h5_path, hyperparams)"
   ]
  },
  {
   "cell_type": "code",
   "execution_count": null,
   "id": "4e5bc015-b7d1-45fc-b65a-2cc1a50f8bd7",
   "metadata": {},
   "outputs": [],
   "source": []
  }
 ],
 "metadata": {
  "kernelspec": {
   "display_name": "Python [conda env:base] *",
   "language": "python",
   "name": "conda-base-py"
  },
  "language_info": {
   "codemirror_mode": {
    "name": "ipython",
    "version": 3
   },
   "file_extension": ".py",
   "mimetype": "text/x-python",
   "name": "python",
   "nbconvert_exporter": "python",
   "pygments_lexer": "ipython3",
   "version": "3.12.3"
  }
 },
 "nbformat": 4,
 "nbformat_minor": 5
}
